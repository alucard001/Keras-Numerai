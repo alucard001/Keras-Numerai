{
 "cells": [
  {
   "cell_type": "code",
   "execution_count": 21,
   "metadata": {
    "collapsed": true
   },
   "outputs": [],
   "source": [
    "import pandas as pd\n",
    "import numpy as np\n",
    "import matplotlib.pyplot as plt\n",
    "%matplotlib inline"
   ]
  },
  {
   "cell_type": "markdown",
   "metadata": {},
   "source": [
    "Set file path get data"
   ]
  },
  {
   "cell_type": "code",
   "execution_count": 22,
   "metadata": {},
   "outputs": [
    {
     "name": "stdout",
     "output_type": "stream",
     "text": [
      "example_model.py             numerai_tournament_data.csv\r\n",
      "example_model.r              numerai_training_data.csv\r\n",
      "example_predictions.csv\r\n"
     ]
    }
   ],
   "source": [
    "%ls numerai_datasets/"
   ]
  },
  {
   "cell_type": "code",
   "execution_count": 23,
   "metadata": {
    "collapsed": true
   },
   "outputs": [],
   "source": [
    "filepath = \"numerai_datasets/\"\n",
    "\n",
    "training = filepath + \"numerai_training_data.csv\"\n",
    "testing = filepath + \"numerai_tournament_data.csv\""
   ]
  },
  {
   "cell_type": "markdown",
   "metadata": {},
   "source": [
    "Read Training data from file"
   ]
  },
  {
   "cell_type": "code",
   "execution_count": 24,
   "metadata": {
    "collapsed": true
   },
   "outputs": [],
   "source": [
    "data = pd.read_csv(training, header=0)\n",
    "features = [f for f in list(data) if 'feature' in f]\n",
    "feature_data = np.array(data[features])\n",
    "target_data = np.array(data[\"target\"])"
   ]
  },
  {
   "cell_type": "markdown",
   "metadata": {},
   "source": [
    "Read Test data from file"
   ]
  },
  {
   "cell_type": "code",
   "execution_count": 25,
   "metadata": {
    "collapsed": true
   },
   "outputs": [],
   "source": [
    "test_data = pd.read_csv(testing, header=0)\n",
    "# test_data.info()\n",
    "\n",
    "# print(set(test_data['data_type']))\n",
    "# {'live', 'test', 'validation'}\n",
    "features = [f for f in list(test_data) if 'feature' in f]\n",
    "\n",
    "live = test_data[test_data['data_type'] == 'live']\n",
    "live_features = np.array(live[features])\n",
    "live_target = np.array(live['target'])\n",
    "\n",
    "test = test_data[test_data['data_type'] == 'test']\n",
    "test_features = np.array(test[features])\n",
    "test_target = np.array(test['target'])\n",
    "\n",
    "validation = test_data[test_data['data_type'] == 'validation']\n",
    "validation_features = np.array(validation[features])\n",
    "validation_target = np.array(validation['target'])"
   ]
  },
  {
   "cell_type": "markdown",
   "metadata": {},
   "source": [
    "Import necessary Keras models"
   ]
  },
  {
   "cell_type": "code",
   "execution_count": 26,
   "metadata": {},
   "outputs": [],
   "source": [
    "from keras.models import Sequential\n",
    "from keras.layers import Dense, Dropout, Activation\n",
    "from keras.optimizers import SGD\n",
    "from keras import metrics\n",
    "from sklearn.metrics import log_loss\n",
    "\n",
    "import numpy as np\n",
    "import time"
   ]
  },
  {
   "cell_type": "code",
   "execution_count": 27,
   "metadata": {},
   "outputs": [
    {
     "data": {
      "text/plain": [
       "'2.0.2'"
      ]
     },
     "execution_count": 27,
     "metadata": {},
     "output_type": "execute_result"
    }
   ],
   "source": [
    "import keras\n",
    "keras.__version__"
   ]
  },
  {
   "cell_type": "markdown",
   "metadata": {},
   "source": [
    "Build model"
   ]
  },
  {
   "cell_type": "code",
   "execution_count": 28,
   "metadata": {
    "collapsed": true
   },
   "outputs": [],
   "source": [
    "train_batch_size = 100\n",
    "test_batch_size = 100\n",
    "epoch = 500\n",
    "dropout = 0.25"
   ]
  },
  {
   "cell_type": "code",
   "execution_count": 29,
   "metadata": {},
   "outputs": [],
   "source": [
    "model = Sequential()\n",
    "\n",
    "model.add(Dense(128, activation='relu', \n",
    "                input_shape=(len(features),),\n",
    "                kernel_initializer='TruncatedNormal',\n",
    "                bias_initializer='zeros', use_bias=True\n",
    "                ))\n",
    "model.add(Dropout(dropout))\n",
    "\n",
    "model.add(Dense(256, activation='relu'))\n",
    "model.add(Dropout(dropout))\n",
    "model.add(Dense(256, activation='relu'))\n",
    "model.add(Dropout(dropout))\n",
    "\n",
    "model.add(Dense(1, activation='sigmoid'))\n",
    "\n",
    "# Build model\n",
    "model.compile(loss='binary_crossentropy',\n",
    "              optimizer='rmsprop',\n",
    "              metrics=['accuracy'])"
   ]
  },
  {
   "cell_type": "markdown",
   "metadata": {},
   "source": [
    "Training the network"
   ]
  },
  {
   "cell_type": "code",
   "execution_count": 30,
   "metadata": {},
   "outputs": [
    {
     "name": "stdout",
     "output_type": "stream",
     "text": [
      "Train on 108405 samples, validate on 16686 samples\n",
      "Epoch 1/500\n",
      "108405/108405 [==============================] - 4s - loss: 0.6935 - acc: 0.5018 - val_loss: 0.6930 - val_acc: 0.5064\n",
      "Epoch 2/500\n",
      "108405/108405 [==============================] - 3s - loss: 0.6932 - acc: 0.5051 - val_loss: 0.6930 - val_acc: 0.5040\n",
      "Epoch 3/500\n",
      "108405/108405 [==============================] - 3s - loss: 0.6931 - acc: 0.5043 - val_loss: 0.6928 - val_acc: 0.5096\n",
      "Epoch 4/500\n",
      "108405/108405 [==============================] - 3s - loss: 0.6931 - acc: 0.5045 - val_loss: 0.6928 - val_acc: 0.5104\n",
      "Epoch 5/500\n",
      "108405/108405 [==============================] - 4s - loss: 0.6931 - acc: 0.5033 - val_loss: 0.6929 - val_acc: 0.5096\n",
      "Epoch 6/500\n",
      "108405/108405 [==============================] - 4s - loss: 0.6931 - acc: 0.5033 - val_loss: 0.6928 - val_acc: 0.5125\n",
      "Epoch 7/500\n",
      "108405/108405 [==============================] - 4s - loss: 0.6931 - acc: 0.5031 - val_loss: 0.6928 - val_acc: 0.5119\n",
      "Epoch 8/500\n",
      "108405/108405 [==============================] - 4s - loss: 0.6931 - acc: 0.5035 - val_loss: 0.6928 - val_acc: 0.5120\n",
      "Epoch 9/500\n",
      "108405/108405 [==============================] - 4s - loss: 0.6931 - acc: 0.5016 - val_loss: 0.6928 - val_acc: 0.5120\n",
      "Epoch 10/500\n",
      "108405/108405 [==============================] - 4s - loss: 0.6930 - acc: 0.5047 - val_loss: 0.6928 - val_acc: 0.5120\n",
      "Epoch 11/500\n",
      "108405/108405 [==============================] - 4s - loss: 0.6931 - acc: 0.5041 - val_loss: 0.6928 - val_acc: 0.5118\n",
      "Epoch 12/500\n",
      "108405/108405 [==============================] - 4s - loss: 0.6930 - acc: 0.5059 - val_loss: 0.6928 - val_acc: 0.5127\n",
      "Epoch 13/500\n",
      "108405/108405 [==============================] - 4s - loss: 0.6930 - acc: 0.5057 - val_loss: 0.6927 - val_acc: 0.5124\n",
      "Epoch 14/500\n",
      "108405/108405 [==============================] - 4s - loss: 0.6931 - acc: 0.5064 - val_loss: 0.6927 - val_acc: 0.5113\n",
      "Epoch 15/500\n",
      "108405/108405 [==============================] - 4s - loss: 0.6930 - acc: 0.5051 - val_loss: 0.6927 - val_acc: 0.5107\n",
      "Epoch 16/500\n",
      "108405/108405 [==============================] - 4s - loss: 0.6931 - acc: 0.5072 - val_loss: 0.6928 - val_acc: 0.5108\n",
      "Epoch 17/500\n",
      "108405/108405 [==============================] - 4s - loss: 0.6931 - acc: 0.5056 - val_loss: 0.6927 - val_acc: 0.5114\n",
      "Epoch 18/500\n",
      "108405/108405 [==============================] - 4s - loss: 0.6930 - acc: 0.5064 - val_loss: 0.6927 - val_acc: 0.5117\n",
      "Epoch 19/500\n",
      "108405/108405 [==============================] - 4s - loss: 0.6931 - acc: 0.5041 - val_loss: 0.6928 - val_acc: 0.5120\n",
      "Epoch 20/500\n",
      "108405/108405 [==============================] - 4s - loss: 0.6930 - acc: 0.5068 - val_loss: 0.6927 - val_acc: 0.5110\n",
      "Epoch 21/500\n",
      "108405/108405 [==============================] - 4s - loss: 0.6930 - acc: 0.5070 - val_loss: 0.6928 - val_acc: 0.5101\n",
      "Epoch 22/500\n",
      "108405/108405 [==============================] - 4s - loss: 0.6931 - acc: 0.5037 - val_loss: 0.6927 - val_acc: 0.5121\n",
      "Epoch 23/500\n",
      "108405/108405 [==============================] - 4s - loss: 0.6930 - acc: 0.5058 - val_loss: 0.6927 - val_acc: 0.5129\n",
      "Epoch 24/500\n",
      "108405/108405 [==============================] - 4s - loss: 0.6930 - acc: 0.5047 - val_loss: 0.6928 - val_acc: 0.5115\n",
      "Epoch 25/500\n",
      "108405/108405 [==============================] - 4s - loss: 0.6930 - acc: 0.5041 - val_loss: 0.6929 - val_acc: 0.5113\n",
      "Epoch 26/500\n",
      "108405/108405 [==============================] - 4s - loss: 0.6931 - acc: 0.5038 - val_loss: 0.6928 - val_acc: 0.5114\n",
      "Epoch 27/500\n",
      "108405/108405 [==============================] - 4s - loss: 0.6930 - acc: 0.5042 - val_loss: 0.6928 - val_acc: 0.5108\n",
      "Epoch 28/500\n",
      "108405/108405 [==============================] - 4s - loss: 0.6931 - acc: 0.5011 - val_loss: 0.6928 - val_acc: 0.5138\n",
      "Epoch 29/500\n",
      "108405/108405 [==============================] - 4s - loss: 0.6930 - acc: 0.5034 - val_loss: 0.6928 - val_acc: 0.5121\n",
      "Epoch 30/500\n",
      "108405/108405 [==============================] - 4s - loss: 0.6930 - acc: 0.5052 - val_loss: 0.6927 - val_acc: 0.5154\n",
      "Epoch 31/500\n",
      "108405/108405 [==============================] - 4s - loss: 0.6931 - acc: 0.5035 - val_loss: 0.6929 - val_acc: 0.5090\n",
      "Epoch 32/500\n",
      "108405/108405 [==============================] - 4s - loss: 0.6930 - acc: 0.5049 - val_loss: 0.6928 - val_acc: 0.5119\n",
      "Epoch 33/500\n",
      "108405/108405 [==============================] - 4s - loss: 0.6931 - acc: 0.5035 - val_loss: 0.6928 - val_acc: 0.5113\n",
      "Epoch 34/500\n",
      "108405/108405 [==============================] - 4s - loss: 0.6931 - acc: 0.5029 - val_loss: 0.6929 - val_acc: 0.5123\n",
      "Epoch 35/500\n",
      "108405/108405 [==============================] - 4s - loss: 0.6930 - acc: 0.5043 - val_loss: 0.6928 - val_acc: 0.5149\n",
      "Epoch 36/500\n",
      "108405/108405 [==============================] - 4s - loss: 0.6930 - acc: 0.5037 - val_loss: 0.6928 - val_acc: 0.5167\n",
      "Epoch 37/500\n",
      "108405/108405 [==============================] - 4s - loss: 0.6930 - acc: 0.5054 - val_loss: 0.6927 - val_acc: 0.5148\n",
      "Epoch 38/500\n",
      "108405/108405 [==============================] - 4s - loss: 0.6930 - acc: 0.5064 - val_loss: 0.6929 - val_acc: 0.5084\n",
      "Epoch 39/500\n",
      "108405/108405 [==============================] - 4s - loss: 0.6930 - acc: 0.5041 - val_loss: 0.6927 - val_acc: 0.5151\n",
      "Epoch 40/500\n",
      "108405/108405 [==============================] - 4s - loss: 0.6930 - acc: 0.5032 - val_loss: 0.6928 - val_acc: 0.5154\n",
      "Epoch 41/500\n",
      "108405/108405 [==============================] - 4s - loss: 0.6930 - acc: 0.5044 - val_loss: 0.6929 - val_acc: 0.5092\n",
      "Epoch 42/500\n",
      "108405/108405 [==============================] - 4s - loss: 0.6929 - acc: 0.5073 - val_loss: 0.6928 - val_acc: 0.5129\n",
      "Epoch 43/500\n",
      "108405/108405 [==============================] - 4s - loss: 0.6931 - acc: 0.5045 - val_loss: 0.6929 - val_acc: 0.5119\n",
      "Epoch 44/500\n",
      "108405/108405 [==============================] - 4s - loss: 0.6930 - acc: 0.5047 - val_loss: 0.6928 - val_acc: 0.5143\n",
      "Epoch 45/500\n",
      "108405/108405 [==============================] - 4s - loss: 0.6930 - acc: 0.5055 - val_loss: 0.6927 - val_acc: 0.5153\n",
      "Epoch 46/500\n",
      "108405/108405 [==============================] - 4s - loss: 0.6930 - acc: 0.5034 - val_loss: 0.6928 - val_acc: 0.5164\n",
      "Epoch 47/500\n",
      "108405/108405 [==============================] - 4s - loss: 0.6930 - acc: 0.5053 - val_loss: 0.6928 - val_acc: 0.5138\n",
      "Epoch 48/500\n",
      "108405/108405 [==============================] - 5s - loss: 0.6930 - acc: 0.5047 - val_loss: 0.6929 - val_acc: 0.5068\n",
      "Epoch 49/500\n",
      "108405/108405 [==============================] - 5s - loss: 0.6930 - acc: 0.5035 - val_loss: 0.6930 - val_acc: 0.5075\n",
      "Epoch 50/500\n",
      "108405/108405 [==============================] - 5s - loss: 0.6930 - acc: 0.5058 - val_loss: 0.6930 - val_acc: 0.5071\n",
      "Epoch 51/500\n",
      "108405/108405 [==============================] - 4s - loss: 0.6930 - acc: 0.5026 - val_loss: 0.6928 - val_acc: 0.5149\n",
      "Epoch 52/500\n",
      "108405/108405 [==============================] - 4s - loss: 0.6930 - acc: 0.5057 - val_loss: 0.6929 - val_acc: 0.5116\n",
      "Epoch 53/500\n",
      "108405/108405 [==============================] - 4s - loss: 0.6930 - acc: 0.5048 - val_loss: 0.6928 - val_acc: 0.5138\n",
      "Epoch 54/500\n",
      "108405/108405 [==============================] - 4s - loss: 0.6930 - acc: 0.5043 - val_loss: 0.6928 - val_acc: 0.5137\n",
      "Epoch 55/500\n",
      "108405/108405 [==============================] - 4s - loss: 0.6930 - acc: 0.5040 - val_loss: 0.6929 - val_acc: 0.5125\n",
      "Epoch 56/500\n",
      "108405/108405 [==============================] - 4s - loss: 0.6930 - acc: 0.5065 - val_loss: 0.6928 - val_acc: 0.5161\n",
      "Epoch 57/500\n",
      "108405/108405 [==============================] - 4s - loss: 0.6930 - acc: 0.5065 - val_loss: 0.6928 - val_acc: 0.5129\n",
      "Epoch 58/500\n",
      "108405/108405 [==============================] - 4s - loss: 0.6931 - acc: 0.5057 - val_loss: 0.6929 - val_acc: 0.5120\n",
      "Epoch 59/500\n",
      "108405/108405 [==============================] - 4s - loss: 0.6930 - acc: 0.5047 - val_loss: 0.6928 - val_acc: 0.5103\n",
      "Epoch 60/500\n",
      "108405/108405 [==============================] - 4s - loss: 0.6931 - acc: 0.5039 - val_loss: 0.6928 - val_acc: 0.5146\n",
      "Epoch 61/500\n",
      "108405/108405 [==============================] - 4s - loss: 0.6930 - acc: 0.5040 - val_loss: 0.6929 - val_acc: 0.5156\n",
      "Epoch 62/500\n",
      "108405/108405 [==============================] - 4s - loss: 0.6930 - acc: 0.5064 - val_loss: 0.6929 - val_acc: 0.5108\n",
      "Epoch 63/500\n"
     ]
    },
    {
     "name": "stdout",
     "output_type": "stream",
     "text": [
      "108405/108405 [==============================] - 3s - loss: 0.6930 - acc: 0.5061 - val_loss: 0.6929 - val_acc: 0.5107\n",
      "Epoch 64/500\n",
      "108405/108405 [==============================] - 4s - loss: 0.6930 - acc: 0.5069 - val_loss: 0.6928 - val_acc: 0.5121\n",
      "Epoch 65/500\n",
      "108405/108405 [==============================] - 3s - loss: 0.6931 - acc: 0.5055 - val_loss: 0.6928 - val_acc: 0.5140\n",
      "Epoch 66/500\n",
      "108405/108405 [==============================] - 3s - loss: 0.6929 - acc: 0.5053 - val_loss: 0.6928 - val_acc: 0.5135\n",
      "Epoch 67/500\n",
      "108405/108405 [==============================] - 3s - loss: 0.6931 - acc: 0.5034 - val_loss: 0.6928 - val_acc: 0.5125\n",
      "Epoch 68/500\n",
      "108405/108405 [==============================] - 4s - loss: 0.6929 - acc: 0.5070 - val_loss: 0.6929 - val_acc: 0.5129\n",
      "Epoch 69/500\n",
      "108405/108405 [==============================] - 3s - loss: 0.6930 - acc: 0.5045 - val_loss: 0.6928 - val_acc: 0.5147\n",
      "Epoch 70/500\n",
      "108405/108405 [==============================] - 4s - loss: 0.6930 - acc: 0.5072 - val_loss: 0.6928 - val_acc: 0.5126\n",
      "Epoch 71/500\n",
      "108405/108405 [==============================] - 3s - loss: 0.6929 - acc: 0.5074 - val_loss: 0.6928 - val_acc: 0.5166\n",
      "Epoch 72/500\n",
      "108405/108405 [==============================] - 3s - loss: 0.6930 - acc: 0.5044 - val_loss: 0.6930 - val_acc: 0.5072\n",
      "Epoch 73/500\n",
      "108405/108405 [==============================] - 3s - loss: 0.6929 - acc: 0.5086 - val_loss: 0.6929 - val_acc: 0.5071\n",
      "Epoch 74/500\n",
      "108405/108405 [==============================] - 3s - loss: 0.6930 - acc: 0.5069 - val_loss: 0.6928 - val_acc: 0.5131\n",
      "Epoch 75/500\n",
      "108405/108405 [==============================] - 3s - loss: 0.6929 - acc: 0.5063 - val_loss: 0.6928 - val_acc: 0.5169\n",
      "Epoch 76/500\n",
      "108405/108405 [==============================] - 4s - loss: 0.6929 - acc: 0.5080 - val_loss: 0.6929 - val_acc: 0.5076\n",
      "Epoch 77/500\n",
      "108405/108405 [==============================] - 3s - loss: 0.6930 - acc: 0.5057 - val_loss: 0.6931 - val_acc: 0.5059\n",
      "Epoch 78/500\n",
      "108405/108405 [==============================] - 3s - loss: 0.6930 - acc: 0.5055 - val_loss: 0.6929 - val_acc: 0.5119\n",
      "Epoch 79/500\n",
      "108405/108405 [==============================] - 4s - loss: 0.6931 - acc: 0.5022 - val_loss: 0.6928 - val_acc: 0.5123\n",
      "Epoch 80/500\n",
      "108405/108405 [==============================] - 4s - loss: 0.6930 - acc: 0.5066 - val_loss: 0.6930 - val_acc: 0.5073\n",
      "Epoch 81/500\n",
      "108405/108405 [==============================] - 3s - loss: 0.6930 - acc: 0.5064 - val_loss: 0.6928 - val_acc: 0.5112\n",
      "Epoch 82/500\n",
      "108405/108405 [==============================] - 4s - loss: 0.6929 - acc: 0.5085 - val_loss: 0.6928 - val_acc: 0.5165\n",
      "Epoch 83/500\n",
      "108405/108405 [==============================] - 4s - loss: 0.6930 - acc: 0.5070 - val_loss: 0.6931 - val_acc: 0.5065\n",
      "Epoch 84/500\n",
      "108405/108405 [==============================] - 3s - loss: 0.6931 - acc: 0.5026 - val_loss: 0.6929 - val_acc: 0.5140\n",
      "Epoch 85/500\n",
      "108405/108405 [==============================] - 3s - loss: 0.6930 - acc: 0.5052 - val_loss: 0.6928 - val_acc: 0.5169\n",
      "Epoch 86/500\n",
      "108405/108405 [==============================] - 3s - loss: 0.6930 - acc: 0.5031 - val_loss: 0.6929 - val_acc: 0.5070\n",
      "Epoch 87/500\n",
      "108405/108405 [==============================] - 4s - loss: 0.6931 - acc: 0.5024 - val_loss: 0.6931 - val_acc: 0.5074\n",
      "Epoch 88/500\n",
      "108405/108405 [==============================] - 3s - loss: 0.6930 - acc: 0.5070 - val_loss: 0.6929 - val_acc: 0.5101\n",
      "Epoch 89/500\n",
      "108405/108405 [==============================] - 3s - loss: 0.6930 - acc: 0.5039 - val_loss: 0.6930 - val_acc: 0.5074\n",
      "Epoch 90/500\n",
      "108405/108405 [==============================] - 3s - loss: 0.6930 - acc: 0.5067 - val_loss: 0.6928 - val_acc: 0.5171\n",
      "Epoch 91/500\n",
      "108405/108405 [==============================] - 3s - loss: 0.6930 - acc: 0.5045 - val_loss: 0.6930 - val_acc: 0.5053\n",
      "Epoch 92/500\n",
      "108405/108405 [==============================] - 3s - loss: 0.6930 - acc: 0.5065 - val_loss: 0.6928 - val_acc: 0.5117\n",
      "Epoch 93/500\n",
      "108405/108405 [==============================] - 3s - loss: 0.6930 - acc: 0.5050 - val_loss: 0.6929 - val_acc: 0.5089\n",
      "Epoch 94/500\n",
      "108405/108405 [==============================] - 3s - loss: 0.6930 - acc: 0.5087 - val_loss: 0.6928 - val_acc: 0.5113\n",
      "Epoch 95/500\n",
      "108405/108405 [==============================] - 3s - loss: 0.6930 - acc: 0.5065 - val_loss: 0.6928 - val_acc: 0.5210\n",
      "Epoch 96/500\n",
      "108405/108405 [==============================] - 3s - loss: 0.6930 - acc: 0.5043 - val_loss: 0.6928 - val_acc: 0.5123\n",
      "Epoch 97/500\n",
      "108405/108405 [==============================] - 3s - loss: 0.6930 - acc: 0.5047 - val_loss: 0.6928 - val_acc: 0.5104\n",
      "Epoch 98/500\n",
      "108405/108405 [==============================] - 3s - loss: 0.6930 - acc: 0.5080 - val_loss: 0.6928 - val_acc: 0.5118\n",
      "Epoch 99/500\n",
      "108405/108405 [==============================] - 4s - loss: 0.6929 - acc: 0.5064 - val_loss: 0.6929 - val_acc: 0.5109\n",
      "Epoch 100/500\n",
      "108405/108405 [==============================] - 3s - loss: 0.6929 - acc: 0.5072 - val_loss: 0.6930 - val_acc: 0.5056\n",
      "Epoch 101/500\n",
      "108405/108405 [==============================] - 3s - loss: 0.6929 - acc: 0.5077 - val_loss: 0.6930 - val_acc: 0.5071\n",
      "Epoch 102/500\n",
      "108405/108405 [==============================] - 3s - loss: 0.6929 - acc: 0.5087 - val_loss: 0.6931 - val_acc: 0.5061\n",
      "Epoch 103/500\n",
      "108405/108405 [==============================] - 3s - loss: 0.6930 - acc: 0.5063 - val_loss: 0.6928 - val_acc: 0.5148\n",
      "Epoch 104/500\n",
      "108405/108405 [==============================] - 3s - loss: 0.6930 - acc: 0.5034 - val_loss: 0.6930 - val_acc: 0.5064\n",
      "Epoch 105/500\n",
      "108405/108405 [==============================] - 3s - loss: 0.6931 - acc: 0.5055 - val_loss: 0.6931 - val_acc: 0.5059\n",
      "Epoch 106/500\n",
      "108405/108405 [==============================] - 3s - loss: 0.6929 - acc: 0.5057 - val_loss: 0.6928 - val_acc: 0.5115\n",
      "Epoch 107/500\n",
      "108405/108405 [==============================] - 3s - loss: 0.6929 - acc: 0.5057 - val_loss: 0.6930 - val_acc: 0.5055\n",
      "Epoch 108/500\n",
      "108405/108405 [==============================] - 3s - loss: 0.6930 - acc: 0.5036 - val_loss: 0.6928 - val_acc: 0.5173\n",
      "Epoch 109/500\n",
      "108405/108405 [==============================] - 3s - loss: 0.6930 - acc: 0.5068 - val_loss: 0.6929 - val_acc: 0.5131\n",
      "Epoch 110/500\n",
      "108405/108405 [==============================] - 3s - loss: 0.6931 - acc: 0.5042 - val_loss: 0.6931 - val_acc: 0.5032\n",
      "Epoch 111/500\n",
      "108405/108405 [==============================] - 3s - loss: 0.6931 - acc: 0.5035 - val_loss: 0.6930 - val_acc: 0.5068\n",
      "Epoch 112/500\n",
      "108405/108405 [==============================] - 3s - loss: 0.6930 - acc: 0.5043 - val_loss: 0.6928 - val_acc: 0.5158\n",
      "Epoch 113/500\n",
      "108405/108405 [==============================] - 3s - loss: 0.6931 - acc: 0.5040 - val_loss: 0.6930 - val_acc: 0.5083\n",
      "Epoch 114/500\n",
      "108405/108405 [==============================] - 4s - loss: 0.6930 - acc: 0.5063 - val_loss: 0.6928 - val_acc: 0.5153\n",
      "Epoch 115/500\n",
      "108405/108405 [==============================] - 4s - loss: 0.6930 - acc: 0.5056 - val_loss: 0.6929 - val_acc: 0.5108\n",
      "Epoch 116/500\n",
      "108405/108405 [==============================] - 3s - loss: 0.6930 - acc: 0.5043 - val_loss: 0.6929 - val_acc: 0.5188\n",
      "Epoch 117/500\n",
      "108405/108405 [==============================] - 3s - loss: 0.6929 - acc: 0.5080 - val_loss: 0.6927 - val_acc: 0.5171\n",
      "Epoch 118/500\n",
      "108405/108405 [==============================] - 3s - loss: 0.6929 - acc: 0.5063 - val_loss: 0.6929 - val_acc: 0.5155\n",
      "Epoch 119/500\n",
      "108405/108405 [==============================] - 4s - loss: 0.6930 - acc: 0.5056 - val_loss: 0.6928 - val_acc: 0.5098\n",
      "Epoch 120/500\n",
      "108405/108405 [==============================] - 3s - loss: 0.6929 - acc: 0.5064 - val_loss: 0.6929 - val_acc: 0.5152\n",
      "Epoch 121/500\n",
      "108405/108405 [==============================] - 3s - loss: 0.6930 - acc: 0.5078 - val_loss: 0.6928 - val_acc: 0.5152\n",
      "Epoch 122/500\n",
      "108405/108405 [==============================] - 4s - loss: 0.6929 - acc: 0.5088 - val_loss: 0.6930 - val_acc: 0.5072\n",
      "Epoch 123/500\n",
      "108405/108405 [==============================] - 4s - loss: 0.6930 - acc: 0.5040 - val_loss: 0.6929 - val_acc: 0.5129\n",
      "Epoch 124/500\n",
      "108405/108405 [==============================] - 4s - loss: 0.6931 - acc: 0.5056 - val_loss: 0.6928 - val_acc: 0.5159\n",
      "Epoch 125/500\n"
     ]
    },
    {
     "name": "stdout",
     "output_type": "stream",
     "text": [
      "108405/108405 [==============================] - 4s - loss: 0.6929 - acc: 0.5081 - val_loss: 0.6929 - val_acc: 0.5102\n",
      "Epoch 126/500\n",
      "108405/108405 [==============================] - 4s - loss: 0.6930 - acc: 0.5049 - val_loss: 0.6928 - val_acc: 0.5141\n",
      "Epoch 127/500\n",
      "108405/108405 [==============================] - 4s - loss: 0.6931 - acc: 0.5033 - val_loss: 0.6929 - val_acc: 0.5102\n",
      "Epoch 128/500\n",
      "108405/108405 [==============================] - 4s - loss: 0.6930 - acc: 0.5055 - val_loss: 0.6929 - val_acc: 0.5141\n",
      "Epoch 129/500\n",
      "108405/108405 [==============================] - 4s - loss: 0.6929 - acc: 0.5074 - val_loss: 0.6928 - val_acc: 0.5116\n",
      "Epoch 130/500\n",
      "108405/108405 [==============================] - 4s - loss: 0.6929 - acc: 0.5062 - val_loss: 0.6929 - val_acc: 0.5068\n",
      "Epoch 131/500\n",
      "108405/108405 [==============================] - 4s - loss: 0.6930 - acc: 0.5053 - val_loss: 0.6931 - val_acc: 0.5094\n",
      "Epoch 132/500\n",
      "108405/108405 [==============================] - 4s - loss: 0.6930 - acc: 0.5054 - val_loss: 0.6931 - val_acc: 0.5055\n",
      "Epoch 133/500\n",
      "108405/108405 [==============================] - 4s - loss: 0.6929 - acc: 0.5051 - val_loss: 0.6928 - val_acc: 0.5149\n",
      "Epoch 134/500\n",
      "108405/108405 [==============================] - 4s - loss: 0.6930 - acc: 0.5085 - val_loss: 0.6929 - val_acc: 0.5091\n",
      "Epoch 135/500\n",
      "108405/108405 [==============================] - 4s - loss: 0.6930 - acc: 0.5064 - val_loss: 0.6931 - val_acc: 0.5056\n",
      "Epoch 136/500\n",
      "108405/108405 [==============================] - 4s - loss: 0.6930 - acc: 0.5085 - val_loss: 0.6931 - val_acc: 0.5052\n",
      "Epoch 137/500\n",
      "108405/108405 [==============================] - 5s - loss: 0.6930 - acc: 0.5053 - val_loss: 0.6930 - val_acc: 0.5068\n",
      "Epoch 138/500\n",
      "108405/108405 [==============================] - 6s - loss: 0.6930 - acc: 0.5072 - val_loss: 0.6931 - val_acc: 0.5053\n",
      "Epoch 139/500\n",
      "108405/108405 [==============================] - 6s - loss: 0.6929 - acc: 0.5071 - val_loss: 0.6931 - val_acc: 0.5052\n",
      "Epoch 140/500\n",
      "108405/108405 [==============================] - 6s - loss: 0.6929 - acc: 0.5059 - val_loss: 0.6931 - val_acc: 0.5062\n",
      "Epoch 141/500\n",
      "108405/108405 [==============================] - 6s - loss: 0.6930 - acc: 0.5065 - val_loss: 0.6931 - val_acc: 0.5052\n",
      "Epoch 142/500\n",
      "108405/108405 [==============================] - 5s - loss: 0.6930 - acc: 0.5058 - val_loss: 0.6931 - val_acc: 0.5052\n",
      "Epoch 143/500\n",
      "108405/108405 [==============================] - 6s - loss: 0.6930 - acc: 0.5063 - val_loss: 0.6931 - val_acc: 0.5047\n",
      "Epoch 144/500\n",
      "108405/108405 [==============================] - 4s - loss: 0.6930 - acc: 0.5055 - val_loss: 0.6929 - val_acc: 0.5117\n",
      "Epoch 145/500\n",
      "108405/108405 [==============================] - 4s - loss: 0.6929 - acc: 0.5055 - val_loss: 0.6930 - val_acc: 0.5086\n",
      "Epoch 146/500\n",
      "108405/108405 [==============================] - 4s - loss: 0.6930 - acc: 0.5038 - val_loss: 0.6930 - val_acc: 0.5050\n",
      "Epoch 147/500\n",
      "108405/108405 [==============================] - 4s - loss: 0.6929 - acc: 0.5075 - val_loss: 0.6930 - val_acc: 0.5071\n",
      "Epoch 148/500\n",
      "108405/108405 [==============================] - 4s - loss: 0.6931 - acc: 0.5029 - val_loss: 0.6930 - val_acc: 0.5067\n",
      "Epoch 149/500\n",
      "108405/108405 [==============================] - 4s - loss: 0.6929 - acc: 0.5061 - val_loss: 0.6928 - val_acc: 0.5173\n",
      "Epoch 150/500\n",
      "108405/108405 [==============================] - 3s - loss: 0.6930 - acc: 0.5056 - val_loss: 0.6931 - val_acc: 0.5065\n",
      "Epoch 151/500\n",
      "108405/108405 [==============================] - 4s - loss: 0.6930 - acc: 0.5061 - val_loss: 0.6930 - val_acc: 0.5066\n",
      "Epoch 152/500\n",
      "108405/108405 [==============================] - 4s - loss: 0.6931 - acc: 0.5007 - val_loss: 0.6931 - val_acc: 0.5017\n",
      "Epoch 153/500\n",
      "108405/108405 [==============================] - 4s - loss: 0.6930 - acc: 0.5071 - val_loss: 0.6931 - val_acc: 0.5054\n",
      "Epoch 154/500\n",
      "108405/108405 [==============================] - 4s - loss: 0.6929 - acc: 0.5093 - val_loss: 0.6928 - val_acc: 0.5180\n",
      "Epoch 155/500\n",
      "108405/108405 [==============================] - 4s - loss: 0.6930 - acc: 0.5044 - val_loss: 0.6929 - val_acc: 0.5116\n",
      "Epoch 156/500\n",
      "108405/108405 [==============================] - 4s - loss: 0.6929 - acc: 0.5084 - val_loss: 0.6929 - val_acc: 0.5112\n",
      "Epoch 157/500\n",
      "108405/108405 [==============================] - 4s - loss: 0.6930 - acc: 0.5049 - val_loss: 0.6930 - val_acc: 0.5059\n",
      "Epoch 158/500\n",
      "108405/108405 [==============================] - 4s - loss: 0.6930 - acc: 0.5062 - val_loss: 0.6929 - val_acc: 0.5093\n",
      "Epoch 159/500\n",
      "108405/108405 [==============================] - 4s - loss: 0.6929 - acc: 0.5069 - val_loss: 0.6929 - val_acc: 0.5126\n",
      "Epoch 160/500\n",
      " 36700/108405 [=========>....................] - ETA: 2s - loss: 0.6930 - acc: 0.5041"
     ]
    },
    {
     "ename": "KeyboardInterrupt",
     "evalue": "",
     "output_type": "error",
     "traceback": [
      "\u001b[0;31m---------------------------------------------------------------------------\u001b[0m",
      "\u001b[0;31mKeyboardInterrupt\u001b[0m                         Traceback (most recent call last)",
      "\u001b[0;32m<ipython-input-30-8bcbdbf433ee>\u001b[0m in \u001b[0;36m<module>\u001b[0;34m()\u001b[0m\n\u001b[1;32m      2\u001b[0m \u001b[0;34m\u001b[0m\u001b[0m\n\u001b[1;32m      3\u001b[0m model.fit(feature_data, target_data, epochs=epoch, batch_size=train_batch_size, \n\u001b[0;32m----> 4\u001b[0;31m           \u001b[0mvalidation_data\u001b[0m\u001b[0;34m=\u001b[0m\u001b[0;34m(\u001b[0m\u001b[0mvalidation_features\u001b[0m\u001b[0;34m,\u001b[0m \u001b[0mvalidation_target\u001b[0m\u001b[0;34m)\u001b[0m\u001b[0;34m,\u001b[0m \u001b[0mshuffle\u001b[0m\u001b[0;34m=\u001b[0m\u001b[0;32mFalse\u001b[0m\u001b[0;34m\u001b[0m\u001b[0m\n\u001b[0m\u001b[1;32m      5\u001b[0m          )\n\u001b[1;32m      6\u001b[0m \u001b[0mprint\u001b[0m\u001b[0;34m(\u001b[0m\u001b[0;34m\"Training/Fit completed: {}\"\u001b[0m\u001b[0;34m.\u001b[0m\u001b[0mformat\u001b[0m\u001b[0;34m(\u001b[0m\u001b[0mtime\u001b[0m\u001b[0;34m.\u001b[0m\u001b[0mtime\u001b[0m\u001b[0;34m(\u001b[0m\u001b[0;34m)\u001b[0m \u001b[0;34m-\u001b[0m \u001b[0mstart_time\u001b[0m\u001b[0;34m)\u001b[0m\u001b[0;34m)\u001b[0m\u001b[0;34m\u001b[0m\u001b[0m\n",
      "\u001b[0;32m//anaconda/envs/tensorflow/lib/python3.5/site-packages/keras/models.py\u001b[0m in \u001b[0;36mfit\u001b[0;34m(self, x, y, batch_size, epochs, verbose, callbacks, validation_split, validation_data, shuffle, class_weight, sample_weight, initial_epoch, **kwargs)\u001b[0m\n\u001b[1;32m    843\u001b[0m                               \u001b[0mclass_weight\u001b[0m\u001b[0;34m=\u001b[0m\u001b[0mclass_weight\u001b[0m\u001b[0;34m,\u001b[0m\u001b[0;34m\u001b[0m\u001b[0m\n\u001b[1;32m    844\u001b[0m                               \u001b[0msample_weight\u001b[0m\u001b[0;34m=\u001b[0m\u001b[0msample_weight\u001b[0m\u001b[0;34m,\u001b[0m\u001b[0;34m\u001b[0m\u001b[0m\n\u001b[0;32m--> 845\u001b[0;31m                               initial_epoch=initial_epoch)\n\u001b[0m\u001b[1;32m    846\u001b[0m \u001b[0;34m\u001b[0m\u001b[0m\n\u001b[1;32m    847\u001b[0m     def evaluate(self, x, y, batch_size=32, verbose=1,\n",
      "\u001b[0;32m//anaconda/envs/tensorflow/lib/python3.5/site-packages/keras/engine/training.py\u001b[0m in \u001b[0;36mfit\u001b[0;34m(self, x, y, batch_size, epochs, verbose, callbacks, validation_split, validation_data, shuffle, class_weight, sample_weight, initial_epoch, **kwargs)\u001b[0m\n\u001b[1;32m   1483\u001b[0m                               \u001b[0mval_f\u001b[0m\u001b[0;34m=\u001b[0m\u001b[0mval_f\u001b[0m\u001b[0;34m,\u001b[0m \u001b[0mval_ins\u001b[0m\u001b[0;34m=\u001b[0m\u001b[0mval_ins\u001b[0m\u001b[0;34m,\u001b[0m \u001b[0mshuffle\u001b[0m\u001b[0;34m=\u001b[0m\u001b[0mshuffle\u001b[0m\u001b[0;34m,\u001b[0m\u001b[0;34m\u001b[0m\u001b[0m\n\u001b[1;32m   1484\u001b[0m                               \u001b[0mcallback_metrics\u001b[0m\u001b[0;34m=\u001b[0m\u001b[0mcallback_metrics\u001b[0m\u001b[0;34m,\u001b[0m\u001b[0;34m\u001b[0m\u001b[0m\n\u001b[0;32m-> 1485\u001b[0;31m                               initial_epoch=initial_epoch)\n\u001b[0m\u001b[1;32m   1486\u001b[0m \u001b[0;34m\u001b[0m\u001b[0m\n\u001b[1;32m   1487\u001b[0m     \u001b[0;32mdef\u001b[0m \u001b[0mevaluate\u001b[0m\u001b[0;34m(\u001b[0m\u001b[0mself\u001b[0m\u001b[0;34m,\u001b[0m \u001b[0mx\u001b[0m\u001b[0;34m,\u001b[0m \u001b[0my\u001b[0m\u001b[0;34m,\u001b[0m \u001b[0mbatch_size\u001b[0m\u001b[0;34m=\u001b[0m\u001b[0;36m32\u001b[0m\u001b[0;34m,\u001b[0m \u001b[0mverbose\u001b[0m\u001b[0;34m=\u001b[0m\u001b[0;36m1\u001b[0m\u001b[0;34m,\u001b[0m \u001b[0msample_weight\u001b[0m\u001b[0;34m=\u001b[0m\u001b[0;32mNone\u001b[0m\u001b[0;34m)\u001b[0m\u001b[0;34m:\u001b[0m\u001b[0;34m\u001b[0m\u001b[0m\n",
      "\u001b[0;32m//anaconda/envs/tensorflow/lib/python3.5/site-packages/keras/engine/training.py\u001b[0m in \u001b[0;36m_fit_loop\u001b[0;34m(self, f, ins, out_labels, batch_size, epochs, verbose, callbacks, val_f, val_ins, shuffle, callback_metrics, initial_epoch)\u001b[0m\n\u001b[1;32m   1138\u001b[0m                 \u001b[0mbatch_logs\u001b[0m\u001b[0;34m[\u001b[0m\u001b[0;34m'size'\u001b[0m\u001b[0;34m]\u001b[0m \u001b[0;34m=\u001b[0m \u001b[0mlen\u001b[0m\u001b[0;34m(\u001b[0m\u001b[0mbatch_ids\u001b[0m\u001b[0;34m)\u001b[0m\u001b[0;34m\u001b[0m\u001b[0m\n\u001b[1;32m   1139\u001b[0m                 \u001b[0mcallbacks\u001b[0m\u001b[0;34m.\u001b[0m\u001b[0mon_batch_begin\u001b[0m\u001b[0;34m(\u001b[0m\u001b[0mbatch_index\u001b[0m\u001b[0;34m,\u001b[0m \u001b[0mbatch_logs\u001b[0m\u001b[0;34m)\u001b[0m\u001b[0;34m\u001b[0m\u001b[0m\n\u001b[0;32m-> 1140\u001b[0;31m                 \u001b[0mouts\u001b[0m \u001b[0;34m=\u001b[0m \u001b[0mf\u001b[0m\u001b[0;34m(\u001b[0m\u001b[0mins_batch\u001b[0m\u001b[0;34m)\u001b[0m\u001b[0;34m\u001b[0m\u001b[0m\n\u001b[0m\u001b[1;32m   1141\u001b[0m                 \u001b[0;32mif\u001b[0m \u001b[0;32mnot\u001b[0m \u001b[0misinstance\u001b[0m\u001b[0;34m(\u001b[0m\u001b[0mouts\u001b[0m\u001b[0;34m,\u001b[0m \u001b[0mlist\u001b[0m\u001b[0;34m)\u001b[0m\u001b[0;34m:\u001b[0m\u001b[0;34m\u001b[0m\u001b[0m\n\u001b[1;32m   1142\u001b[0m                     \u001b[0mouts\u001b[0m \u001b[0;34m=\u001b[0m \u001b[0;34m[\u001b[0m\u001b[0mouts\u001b[0m\u001b[0;34m]\u001b[0m\u001b[0;34m\u001b[0m\u001b[0m\n",
      "\u001b[0;32m//anaconda/envs/tensorflow/lib/python3.5/site-packages/keras/backend/tensorflow_backend.py\u001b[0m in \u001b[0;36m__call__\u001b[0;34m(self, inputs)\u001b[0m\n\u001b[1;32m   2071\u001b[0m         \u001b[0msession\u001b[0m \u001b[0;34m=\u001b[0m \u001b[0mget_session\u001b[0m\u001b[0;34m(\u001b[0m\u001b[0;34m)\u001b[0m\u001b[0;34m\u001b[0m\u001b[0m\n\u001b[1;32m   2072\u001b[0m         updated = session.run(self.outputs + [self.updates_op],\n\u001b[0;32m-> 2073\u001b[0;31m                               feed_dict=feed_dict)\n\u001b[0m\u001b[1;32m   2074\u001b[0m         \u001b[0;32mreturn\u001b[0m \u001b[0mupdated\u001b[0m\u001b[0;34m[\u001b[0m\u001b[0;34m:\u001b[0m\u001b[0mlen\u001b[0m\u001b[0;34m(\u001b[0m\u001b[0mself\u001b[0m\u001b[0;34m.\u001b[0m\u001b[0moutputs\u001b[0m\u001b[0;34m)\u001b[0m\u001b[0;34m]\u001b[0m\u001b[0;34m\u001b[0m\u001b[0m\n\u001b[1;32m   2075\u001b[0m \u001b[0;34m\u001b[0m\u001b[0m\n",
      "\u001b[0;32m//anaconda/envs/tensorflow/lib/python3.5/site-packages/tensorflow/python/client/session.py\u001b[0m in \u001b[0;36mrun\u001b[0;34m(self, fetches, feed_dict, options, run_metadata)\u001b[0m\n\u001b[1;32m    765\u001b[0m     \u001b[0;32mtry\u001b[0m\u001b[0;34m:\u001b[0m\u001b[0;34m\u001b[0m\u001b[0m\n\u001b[1;32m    766\u001b[0m       result = self._run(None, fetches, feed_dict, options_ptr,\n\u001b[0;32m--> 767\u001b[0;31m                          run_metadata_ptr)\n\u001b[0m\u001b[1;32m    768\u001b[0m       \u001b[0;32mif\u001b[0m \u001b[0mrun_metadata\u001b[0m\u001b[0;34m:\u001b[0m\u001b[0;34m\u001b[0m\u001b[0m\n\u001b[1;32m    769\u001b[0m         \u001b[0mproto_data\u001b[0m \u001b[0;34m=\u001b[0m \u001b[0mtf_session\u001b[0m\u001b[0;34m.\u001b[0m\u001b[0mTF_GetBuffer\u001b[0m\u001b[0;34m(\u001b[0m\u001b[0mrun_metadata_ptr\u001b[0m\u001b[0;34m)\u001b[0m\u001b[0;34m\u001b[0m\u001b[0m\n",
      "\u001b[0;32m//anaconda/envs/tensorflow/lib/python3.5/site-packages/tensorflow/python/client/session.py\u001b[0m in \u001b[0;36m_run\u001b[0;34m(self, handle, fetches, feed_dict, options, run_metadata)\u001b[0m\n\u001b[1;32m    963\u001b[0m     \u001b[0;32mif\u001b[0m \u001b[0mfinal_fetches\u001b[0m \u001b[0;32mor\u001b[0m \u001b[0mfinal_targets\u001b[0m\u001b[0;34m:\u001b[0m\u001b[0;34m\u001b[0m\u001b[0m\n\u001b[1;32m    964\u001b[0m       results = self._do_run(handle, final_targets, final_fetches,\n\u001b[0;32m--> 965\u001b[0;31m                              feed_dict_string, options, run_metadata)\n\u001b[0m\u001b[1;32m    966\u001b[0m     \u001b[0;32melse\u001b[0m\u001b[0;34m:\u001b[0m\u001b[0;34m\u001b[0m\u001b[0m\n\u001b[1;32m    967\u001b[0m       \u001b[0mresults\u001b[0m \u001b[0;34m=\u001b[0m \u001b[0;34m[\u001b[0m\u001b[0;34m]\u001b[0m\u001b[0;34m\u001b[0m\u001b[0m\n",
      "\u001b[0;32m//anaconda/envs/tensorflow/lib/python3.5/site-packages/tensorflow/python/client/session.py\u001b[0m in \u001b[0;36m_do_run\u001b[0;34m(self, handle, target_list, fetch_list, feed_dict, options, run_metadata)\u001b[0m\n\u001b[1;32m   1013\u001b[0m     \u001b[0;32mif\u001b[0m \u001b[0mhandle\u001b[0m \u001b[0;32mis\u001b[0m \u001b[0;32mNone\u001b[0m\u001b[0;34m:\u001b[0m\u001b[0;34m\u001b[0m\u001b[0m\n\u001b[1;32m   1014\u001b[0m       return self._do_call(_run_fn, self._session, feed_dict, fetch_list,\n\u001b[0;32m-> 1015\u001b[0;31m                            target_list, options, run_metadata)\n\u001b[0m\u001b[1;32m   1016\u001b[0m     \u001b[0;32melse\u001b[0m\u001b[0;34m:\u001b[0m\u001b[0;34m\u001b[0m\u001b[0m\n\u001b[1;32m   1017\u001b[0m       return self._do_call(_prun_fn, self._session, handle, feed_dict,\n",
      "\u001b[0;32m//anaconda/envs/tensorflow/lib/python3.5/site-packages/tensorflow/python/client/session.py\u001b[0m in \u001b[0;36m_do_call\u001b[0;34m(self, fn, *args)\u001b[0m\n\u001b[1;32m   1020\u001b[0m   \u001b[0;32mdef\u001b[0m \u001b[0m_do_call\u001b[0m\u001b[0;34m(\u001b[0m\u001b[0mself\u001b[0m\u001b[0;34m,\u001b[0m \u001b[0mfn\u001b[0m\u001b[0;34m,\u001b[0m \u001b[0;34m*\u001b[0m\u001b[0margs\u001b[0m\u001b[0;34m)\u001b[0m\u001b[0;34m:\u001b[0m\u001b[0;34m\u001b[0m\u001b[0m\n\u001b[1;32m   1021\u001b[0m     \u001b[0;32mtry\u001b[0m\u001b[0;34m:\u001b[0m\u001b[0;34m\u001b[0m\u001b[0m\n\u001b[0;32m-> 1022\u001b[0;31m       \u001b[0;32mreturn\u001b[0m \u001b[0mfn\u001b[0m\u001b[0;34m(\u001b[0m\u001b[0;34m*\u001b[0m\u001b[0margs\u001b[0m\u001b[0;34m)\u001b[0m\u001b[0;34m\u001b[0m\u001b[0m\n\u001b[0m\u001b[1;32m   1023\u001b[0m     \u001b[0;32mexcept\u001b[0m \u001b[0merrors\u001b[0m\u001b[0;34m.\u001b[0m\u001b[0mOpError\u001b[0m \u001b[0;32mas\u001b[0m \u001b[0me\u001b[0m\u001b[0;34m:\u001b[0m\u001b[0;34m\u001b[0m\u001b[0m\n\u001b[1;32m   1024\u001b[0m       \u001b[0mmessage\u001b[0m \u001b[0;34m=\u001b[0m \u001b[0mcompat\u001b[0m\u001b[0;34m.\u001b[0m\u001b[0mas_text\u001b[0m\u001b[0;34m(\u001b[0m\u001b[0me\u001b[0m\u001b[0;34m.\u001b[0m\u001b[0mmessage\u001b[0m\u001b[0;34m)\u001b[0m\u001b[0;34m\u001b[0m\u001b[0m\n",
      "\u001b[0;32m//anaconda/envs/tensorflow/lib/python3.5/site-packages/tensorflow/python/client/session.py\u001b[0m in \u001b[0;36m_run_fn\u001b[0;34m(session, feed_dict, fetch_list, target_list, options, run_metadata)\u001b[0m\n\u001b[1;32m   1002\u001b[0m         return tf_session.TF_Run(session, options,\n\u001b[1;32m   1003\u001b[0m                                  \u001b[0mfeed_dict\u001b[0m\u001b[0;34m,\u001b[0m \u001b[0mfetch_list\u001b[0m\u001b[0;34m,\u001b[0m \u001b[0mtarget_list\u001b[0m\u001b[0;34m,\u001b[0m\u001b[0;34m\u001b[0m\u001b[0m\n\u001b[0;32m-> 1004\u001b[0;31m                                  status, run_metadata)\n\u001b[0m\u001b[1;32m   1005\u001b[0m \u001b[0;34m\u001b[0m\u001b[0m\n\u001b[1;32m   1006\u001b[0m     \u001b[0;32mdef\u001b[0m \u001b[0m_prun_fn\u001b[0m\u001b[0;34m(\u001b[0m\u001b[0msession\u001b[0m\u001b[0;34m,\u001b[0m \u001b[0mhandle\u001b[0m\u001b[0;34m,\u001b[0m \u001b[0mfeed_dict\u001b[0m\u001b[0;34m,\u001b[0m \u001b[0mfetch_list\u001b[0m\u001b[0;34m)\u001b[0m\u001b[0;34m:\u001b[0m\u001b[0;34m\u001b[0m\u001b[0m\n",
      "\u001b[0;31mKeyboardInterrupt\u001b[0m: "
     ]
    }
   ],
   "source": [
    "start_time = time.time()\n",
    "\n",
    "model.fit(feature_data, target_data, epochs=epoch, batch_size=train_batch_size, \n",
    "          validation_data=(validation_features, validation_target), shuffle=False\n",
    "         )\n",
    "print(\"Training/Fit completed: {}\".format(time.time() - start_time))"
   ]
  },
  {
   "cell_type": "code",
   "execution_count": null,
   "metadata": {},
   "outputs": [],
   "source": [
    "start_time = time.time()\n",
    "score = model.evaluate(test_features, test_target, batch_size=test_batch_size)\n",
    "print(\"Evaluate completed: {}\".format(time.time() - start_time))\n",
    "print(score)"
   ]
  },
  {
   "cell_type": "code",
   "execution_count": null,
   "metadata": {},
   "outputs": [],
   "source": [
    "start_time = time.time()\n",
    "classes = model.predict_proba(live_features)\n",
    "# print(\"Prediction completed: {}\".format(time.time() - start_time))"
   ]
  },
  {
   "cell_type": "code",
   "execution_count": null,
   "metadata": {},
   "outputs": [],
   "source": [
    "c = pd.DataFrame(classes)\n",
    "c[c[0] >= 0.5] = 1\n",
    "c[c[0] <= 0.5] = 0\n",
    "c"
   ]
  },
  {
   "cell_type": "code",
   "execution_count": null,
   "metadata": {},
   "outputs": [],
   "source": [
    "# Save model to JSON\n",
    "# serialize model to JSON\n",
    "print(\"* Saving model to disk..\")\n",
    "model_json = model.to_json()\n",
    "with open(\"model.json\", \"w\") as json_file:\n",
    "    json_file.write(model_json)\n",
    "# serialize weights to HDF5\n",
    "model.save_weights(\"model.h5\")\n",
    "print(\"* Saved model  to disk\")"
   ]
  }
 ],
 "metadata": {
  "anaconda-cloud": {},
  "kernelspec": {
   "display_name": "Python 3",
   "language": "python",
   "name": "python3"
  },
  "language_info": {
   "codemirror_mode": {
    "name": "ipython",
    "version": 3
   },
   "file_extension": ".py",
   "mimetype": "text/x-python",
   "name": "python",
   "nbconvert_exporter": "python",
   "pygments_lexer": "ipython3",
   "version": "3.5.2"
  }
 },
 "nbformat": 4,
 "nbformat_minor": 1
}
